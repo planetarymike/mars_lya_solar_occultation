{
 "metadata": {
  "name": "",
  "signature": "sha256:5b8ddd5b2c9b3eb275dcf6d4d6286ba90d5cc3bec1d989475dc755ca3687641d"
 },
 "nbformat": 3,
 "nbformat_minor": 0,
 "worksheets": [
  {
   "cells": [
    {
     "cell_type": "code",
     "collapsed": false,
     "input": [
      "import py_los_profile\n",
      "import numpy as np\n",
      "from matplotlib import pyplot as plt\n",
      "%matplotlib inline"
     ],
     "language": "python",
     "metadata": {},
     "outputs": [],
     "prompt_number": 1
    },
    {
     "cell_type": "code",
     "collapsed": false,
     "input": [
      "Hprof=py_los_profile.LOS_profile_sim()"
     ],
     "language": "python",
     "metadata": {},
     "outputs": [],
     "prompt_number": 2
    },
    {
     "cell_type": "code",
     "collapsed": false,
     "input": [
      "Hprof.read_scpos_from_file('/home/mike/Documents/MAVEN/Solar_occultations/test_out.dat')"
     ],
     "language": "python",
     "metadata": {},
     "outputs": [],
     "prompt_number": 3
    },
    {
     "cell_type": "code",
     "collapsed": false,
     "input": [
      "#Hprof.set_scpos(np.array([3596*6.667-3596]),np.array([126.0]),1)"
     ],
     "language": "python",
     "metadata": {},
     "outputs": [],
     "prompt_number": 4
    },
    {
     "cell_type": "code",
     "collapsed": false,
     "input": [
      "Hprof.get_tanpt_alt_km()"
     ],
     "language": "python",
     "metadata": {},
     "outputs": [
      {
       "metadata": {},
       "output_type": "pyout",
       "prompt_number": 5,
       "text": [
        "array([  234.24,   235.08,   235.91, ...,  4780.05,  4779.37,  4778.69])"
       ]
      }
     ],
     "prompt_number": 5
    },
    {
     "cell_type": "code",
     "collapsed": false,
     "input": [
      "H0=(Hprof.get_tanpt_alt_km()[0]+3395)/(Hprof.get_lb()[0])"
     ],
     "language": "python",
     "metadata": {},
     "outputs": [],
     "prompt_number": 32
    },
    {
     "cell_type": "code",
     "collapsed": false,
     "input": [
      "import scipy"
     ],
     "language": "python",
     "metadata": {},
     "outputs": [],
     "prompt_number": 38
    },
    {
     "cell_type": "code",
     "collapsed": false,
     "input": [
      "H0"
     ],
     "language": "python",
     "metadata": {},
     "outputs": [
      {
       "metadata": {},
       "output_type": "pyout",
       "prompt_number": 40,
       "text": [
        "734.13043959083484"
       ]
      }
     ],
     "prompt_number": 40
    },
    {
     "cell_type": "code",
     "collapsed": false,
     "input": [
      "scipy."
     ],
     "language": "python",
     "metadata": {},
     "outputs": [
      {
       "ename": "AttributeError",
       "evalue": "'module' object has no attribute 'special'",
       "output_type": "pyerr",
       "traceback": [
        "\u001b[1;31m---------------------------------------------------------------------------\u001b[0m\n\u001b[1;31mAttributeError\u001b[0m                            Traceback (most recent call last)",
        "\u001b[1;32m<ipython-input-39-3469fa31b760>\u001b[0m in \u001b[0;36m<module>\u001b[1;34m()\u001b[0m\n\u001b[1;32m----> 1\u001b[1;33m \u001b[0mscipy\u001b[0m\u001b[1;33m.\u001b[0m\u001b[0mspecial\u001b[0m\u001b[1;33m\u001b[0m\u001b[0m\n\u001b[0m",
        "\u001b[1;31mAttributeError\u001b[0m: 'module' object has no attribute 'special'"
       ]
      }
     ],
     "prompt_number": 39
    },
    {
     "cell_type": "code",
     "collapsed": false,
     "input": [
      "Hprof.simulate(100000,290)"
     ],
     "language": "python",
     "metadata": {},
     "outputs": [],
     "prompt_number": 6
    },
    {
     "cell_type": "code",
     "collapsed": false,
     "input": [
      "Hprof.get_lc()"
     ],
     "language": "python",
     "metadata": {},
     "outputs": [
      {
       "metadata": {},
       "output_type": "pyout",
       "prompt_number": 7,
       "text": [
        "4.990674566527584"
       ]
      }
     ],
     "prompt_number": 7
    },
    {
     "cell_type": "code",
     "collapsed": false,
     "input": [
      "Hprof.get_lb()"
     ],
     "language": "python",
     "metadata": {},
     "outputs": [
      {
       "metadata": {},
       "output_type": "pyout",
       "prompt_number": 8,
       "text": [
        "array([ 4.94359014,  4.94244619,  4.94131638, ...,  2.19466243,\n",
        "        2.19484499,  2.19502759])"
       ]
      }
     ],
     "prompt_number": 8
    },
    {
     "cell_type": "code",
     "collapsed": false,
     "input": [
      "Hprof.get_t0()"
     ],
     "language": "python",
     "metadata": {},
     "outputs": [
      {
       "metadata": {},
       "output_type": "pyout",
       "prompt_number": 9,
       "text": [
        "array([-1.10617415, -1.10611079, -1.10604744, ..., -0.07640598,\n",
        "       -0.07620422, -0.07600228])"
       ]
      }
     ],
     "prompt_number": 9
    },
    {
     "cell_type": "code",
     "collapsed": false,
     "input": [
      "avec=Hprof.get_avec()"
     ],
     "language": "python",
     "metadata": {},
     "outputs": [],
     "prompt_number": 10
    },
    {
     "cell_type": "code",
     "collapsed": false,
     "input": [
      "avec"
     ],
     "language": "python",
     "metadata": {},
     "outputs": [
      {
       "metadata": {},
       "output_type": "pyout",
       "prompt_number": 11,
       "text": [
        "array([-6.56185794, -6.45249364, -6.34312935, -6.23376505, -6.12440075,\n",
        "       -6.01503645, -5.90567215, -5.79630785, -5.68694355, -5.57757925,\n",
        "       -5.46821495, -5.35885065, -5.24948636, -5.14012206, -5.03075776,\n",
        "       -4.92139346, -4.81202916, -4.70266486, -4.59330056, -4.48393626,\n",
        "       -4.37457196, -4.26520766, -4.15584336, -4.04647907, -3.93711477,\n",
        "       -3.82775047, -3.71838617, -3.60902187, -3.49965757, -3.39029327,\n",
        "       -3.28092897, -3.17156467, -3.06220037, -2.95283607, -2.84347178,\n",
        "       -2.73410748, -2.62474318, -2.51537888, -2.40601458, -2.29665028,\n",
        "       -2.18728598, -2.07792168, -1.96855738, -1.85919308, -1.74982879,\n",
        "       -1.64046449, -1.53110019, -1.42173589, -1.31237159, -1.20300729,\n",
        "       -1.09364299, -0.98427869, -0.87491439, -0.76555009, -0.65618579,\n",
        "       -0.5468215 , -0.4374572 , -0.3280929 , -0.2187286 , -0.1093643 ,\n",
        "        0.        ,  0.1093643 ,  0.2187286 ,  0.3280929 ,  0.4374572 ,\n",
        "        0.5468215 ,  0.65618579,  0.76555009,  0.87491439,  0.98427869,\n",
        "        1.09364299,  1.20300729,  1.31237159,  1.42173589,  1.53110019,\n",
        "        1.64046449,  1.74982879,  1.85919308,  1.96855738,  2.07792168,\n",
        "        2.18728598,  2.29665028,  2.40601458,  2.51537888,  2.62474318,\n",
        "        2.73410748,  2.84347178,  2.95283607,  3.06220037,  3.17156467,\n",
        "        3.28092897,  3.39029327,  3.49965757,  3.60902187,  3.71838617,\n",
        "        3.82775047,  3.93711477,  4.04647907,  4.15584336,  4.26520766,\n",
        "        4.37457196,  4.48393626,  4.59330056,  4.70266486,  4.81202916,\n",
        "        4.92139346,  5.03075776,  5.14012206,  5.24948636,  5.35885065,\n",
        "        5.46821495,  5.57757925,  5.68694355,  5.79630785,  5.90567215,\n",
        "        6.01503645,  6.12440075,  6.23376505,  6.34312935,  6.45249364,\n",
        "        6.56185794])"
       ]
      }
     ],
     "prompt_number": 11
    },
    {
     "cell_type": "code",
     "collapsed": false,
     "input": [
      "tvecmat=Hprof.get_alltvec()"
     ],
     "language": "python",
     "metadata": {},
     "outputs": [],
     "prompt_number": 12
    },
    {
     "cell_type": "code",
     "collapsed": false,
     "input": [
      "Hprof.get_mpvel()*-2"
     ],
     "language": "python",
     "metadata": {},
     "outputs": [
      {
       "metadata": {},
       "output_type": "pyout",
       "prompt_number": 13,
       "text": [
        "-437457.19626661914"
       ]
      }
     ],
     "prompt_number": 13
    },
    {
     "cell_type": "code",
     "collapsed": false,
     "input": [
      "tvecmat[0]"
     ],
     "language": "python",
     "metadata": {},
     "outputs": [
      {
       "metadata": {},
       "output_type": "pyout",
       "prompt_number": 14,
       "text": [
        "array([  5.67299575e-04,   7.66304134e-04,   1.15841177e-03,\n",
        "         1.55083570e-03,   2.06713264e-03,   2.74224879e-03,\n",
        "         3.62081836e-03,   4.77458831e-03,   6.24119879e-03,\n",
        "         8.12168439e-03,   1.05130758e-02,   1.35453531e-02,\n",
        "         1.73749809e-02,   2.21814887e-02,   2.81830659e-02,\n",
        "         3.56130283e-02,   5.94072329e-02,   8.41027083e-02,\n",
        "         1.12008622e-01,   1.45749489e-01,   1.86716462e-01,\n",
        "         2.35760810e-01,   2.95490772e-01,   3.67564900e-01,\n",
        "         4.51353914e-01,   5.52670122e-01,   6.72648125e-01,\n",
        "         8.14404811e-01,   9.88117113e-01,   1.18187476e+00,\n",
        "         1.41489162e+00,   1.67936530e+00,   1.99597807e+00,\n",
        "         2.34055416e+00,   2.71858126e+00,   3.15225946e+00,\n",
        "         3.61645097e+00,   4.12486377e+00,   4.66760668e+00,\n",
        "         5.26814529e+00,   5.89436750e+00,   6.55271034e+00,\n",
        "         7.25543069e+00,   7.96799635e+00,   8.71043730e+00,\n",
        "         9.47078503e+00,   1.02316723e+01,   1.09954155e+01,\n",
        "         1.17570302e+01,   1.24967369e+01,   1.32085783e+01,\n",
        "         1.38934158e+01,   1.45315510e+01,   1.51209686e+01,\n",
        "         1.56440694e+01,   1.61032125e+01,   1.64878384e+01,\n",
        "         1.67926662e+01,   1.70145256e+01,   1.71508096e+01,\n",
        "         1.71976310e+01,   1.71508096e+01,   1.70145256e+01,\n",
        "         1.67926662e+01,   1.64878384e+01,   1.61032125e+01,\n",
        "         1.56440694e+01,   1.51209686e+01,   1.45351120e+01,\n",
        "         1.38995926e+01,   1.32177660e+01,   1.25065720e+01,\n",
        "         1.17697517e+01,   1.10167472e+01,   1.02572547e+01,\n",
        "         9.49800074e+00,   8.74636554e+00,   8.00805207e+00,\n",
        "         7.29327450e+00,   6.60274760e+00,   5.94312264e+00,\n",
        "         5.32016885e+00,   4.73292075e+00,   4.18493710e+00,\n",
        "         3.67972694e+00,   3.21306917e+00,   2.78727857e+00,\n",
        "         2.40334813e+00,   2.05777910e+00,   1.75088847e+00,\n",
        "         1.47808152e+00,   1.23604587e+00,   1.03016218e+00,\n",
        "         8.56608585e-01,   7.07401186e-01,   5.82853154e-01,\n",
        "         4.76616844e-01,   3.89062617e-01,   3.12868848e-01,\n",
        "         2.51162837e-01,   1.98673436e-01,   1.56148865e-01,\n",
        "         1.19668057e-01,   9.04384161e-02,   6.51867129e-02,\n",
        "         3.99536785e-02,   3.16673362e-02,   2.49762004e-02,\n",
        "         1.96022729e-02,   1.52930349e-02,   1.18863480e-02,\n",
        "         9.19653755e-03,   7.08212514e-03,   5.42690969e-03,\n",
        "         4.13741533e-03,   3.14009584e-03,   2.37177046e-03,\n",
        "         1.78269618e-03,   1.33313485e-03,   8.75262110e-04,\n",
        "         6.48692141e-04])"
       ]
      }
     ],
     "prompt_number": 14
    },
    {
     "cell_type": "code",
     "collapsed": false,
     "input": [
      "plt.plot(avec,tvecmat[0])"
     ],
     "language": "python",
     "metadata": {},
     "outputs": [
      {
       "metadata": {},
       "output_type": "pyout",
       "prompt_number": 15,
       "text": [
        "[<matplotlib.lines.Line2D at 0x7f173604c250>]"
       ]
      },
      {
       "metadata": {},
       "output_type": "display_data",
       "png": "[encoded data removed]",
       "text": [
        "<matplotlib.figure.Figure at 0x7f175815cdd0>"
       ]
      }
     ],
     "prompt_number": 15
    },
    {
     "cell_type": "code",
     "collapsed": false,
     "input": [
      "tvecmat.shape"
     ],
     "language": "python",
     "metadata": {},
     "outputs": [
      {
       "metadata": {},
       "output_type": "pyout",
       "prompt_number": 16,
       "text": [
        "(7472, 121)"
       ]
      }
     ],
     "prompt_number": 16
    },
    {
     "cell_type": "code",
     "collapsed": false,
     "input": [
      "tvecmat.shape[0]"
     ],
     "language": "python",
     "metadata": {},
     "outputs": [
      {
       "metadata": {},
       "output_type": "pyout",
       "prompt_number": 20,
       "text": [
        "7472"
       ]
      }
     ],
     "prompt_number": 20
    },
    {
     "cell_type": "code",
     "collapsed": false,
     "input": [
      "for i in range(0,tvecmat.shape[0],1000): plt.plot(avec,tvecmat[i],color='gray')\n",
      "plt.ylim([0,20])"
     ],
     "language": "python",
     "metadata": {},
     "outputs": [
      {
       "metadata": {},
       "output_type": "pyout",
       "prompt_number": 25,
       "text": [
        "(0, 20)"
       ]
      },
      {
       "metadata": {},
       "output_type": "display_data",
       "png": "[encoded data removed]",
       "text": [
        "<matplotlib.figure.Figure at 0x7f17328acc10>"
       ]
      }
     ],
     "prompt_number": 25
    },
    {
     "cell_type": "code",
     "collapsed": false,
     "input": [
      "Hprof.get_lb()"
     ],
     "language": "python",
     "metadata": {},
     "outputs": [
      {
       "metadata": {},
       "output_type": "pyout",
       "prompt_number": 18,
       "text": [
        "array([ 4.94359014,  4.94244619,  4.94131638, ...,  2.19466243,\n",
        "        2.19484499,  2.19502759])"
       ]
      }
     ],
     "prompt_number": 18
    },
    {
     "cell_type": "code",
     "collapsed": false,
     "input": [
      "Hprof.get_lc()"
     ],
     "language": "python",
     "metadata": {},
     "outputs": [
      {
       "metadata": {},
       "output_type": "pyout",
       "prompt_number": 19,
       "text": [
        "4.990674566527584"
       ]
      }
     ],
     "prompt_number": 19
    },
    {
     "cell_type": "code",
     "collapsed": false,
     "input": [
      "Hprof.get_t0()"
     ],
     "language": "python",
     "metadata": {},
     "outputs": [
      {
       "metadata": {},
       "output_type": "pyout",
       "prompt_number": 20,
       "text": [
        "array([-1.10617415, -1.10611079, -1.10604744, ..., -0.07640598,\n",
        "       -0.07620422, -0.07600228])"
       ]
      }
     ],
     "prompt_number": 20
    },
    {
     "cell_type": "code",
     "collapsed": false,
     "input": [
      "Hprof.get_Texo()"
     ],
     "language": "python",
     "metadata": {},
     "outputs": [
      {
       "metadata": {},
       "output_type": "pyout",
       "prompt_number": 21,
       "text": [
        "290.0"
       ]
      }
     ],
     "prompt_number": 21
    },
    {
     "cell_type": "code",
     "collapsed": false,
     "input": [
      "%cd /home/mike/Documents/MAVEN/IUVS/H_Corona_pipeline/exospheric_H_line_profiles/Bertaux_method"
     ],
     "language": "python",
     "metadata": {},
     "outputs": [
      {
       "output_type": "stream",
       "stream": "stdout",
       "text": [
        "/home/mike/Documents/MAVEN/IUVS/H_Corona_pipeline/exospheric_H_line_profiles/Bertaux_method\n"
       ]
      }
     ],
     "prompt_number": 22
    },
    {
     "cell_type": "code",
     "collapsed": false,
     "input": [
      "import H_LOS_prof"
     ],
     "language": "python",
     "metadata": {},
     "outputs": [],
     "prompt_number": 23
    },
    {
     "cell_type": "code",
     "collapsed": false,
     "input": [
      "Hlosprof_direct=H_LOS_prof.Py_H_LOS_sim()"
     ],
     "language": "python",
     "metadata": {},
     "outputs": [],
     "prompt_number": 24
    },
    {
     "cell_type": "code",
     "collapsed": false,
     "input": [
      "Hlosprof_direct.simulate(Hprof.get_lc(),Hprof.get_lb()[0],Hprof.get_t0()[0])"
     ],
     "language": "python",
     "metadata": {},
     "outputs": [],
     "prompt_number": 25
    },
    {
     "cell_type": "code",
     "collapsed": false,
     "input": [
      "aavec=Hlosprof_direct.get_avec()\n",
      "atvec=Hlosprof_direct.get_tvec()"
     ],
     "language": "python",
     "metadata": {},
     "outputs": [],
     "prompt_number": 26
    },
    {
     "cell_type": "code",
     "collapsed": false,
     "input": [
      "plt.plot(avec,tvecmat[0])\n",
      "plt.plot(Hprof.get_mpvel()/1e5*aavec,Hprof.get_nexo()*atvec)"
     ],
     "language": "python",
     "metadata": {},
     "outputs": [
      {
       "metadata": {},
       "output_type": "pyout",
       "prompt_number": 27,
       "text": [
        "[<matplotlib.lines.Line2D at 0x7fc227c299d0>]"
       ]
      },
      {
       "metadata": {},
       "output_type": "display_data",
       "png": "[encoded data removed]",
       "text": [
        "<matplotlib.figure.Figure at 0x7fc227bebf10>"
       ]
      }
     ],
     "prompt_number": 27
    },
    {
     "cell_type": "code",
     "collapsed": false,
     "input": [
      "plt.plot(Hprof.get_mpvel()/1e5*aavec,(Hprof.get_nexo()*atvec-tvecmat[0,1:-1])/(Hprof.get_nexo()*atvec))"
     ],
     "language": "python",
     "metadata": {},
     "outputs": [
      {
       "metadata": {},
       "output_type": "pyout",
       "prompt_number": 34,
       "text": [
        "[<matplotlib.lines.Line2D at 0x7fc2277138d0>]"
       ]
      },
      {
       "metadata": {},
       "output_type": "display_data",
       "png": "[encoded data removed]",
       "text": [
        "<matplotlib.figure.Figure at 0x7fc227917f50>"
       ]
      }
     ],
     "prompt_number": 34
    },
    {
     "cell_type": "code",
     "collapsed": false,
     "input": [],
     "language": "python",
     "metadata": {},
     "outputs": []
    }
   ],
   "metadata": {}
  }
 ]
}